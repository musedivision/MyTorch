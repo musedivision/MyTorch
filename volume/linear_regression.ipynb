{
 "cells": [
  {
   "cell_type": "code",
   "execution_count": 71,
   "metadata": {},
   "outputs": [
    {
     "ename": "ModuleNotFoundError",
     "evalue": "No module named 'tqdm'",
     "output_type": "error",
     "traceback": [
      "\u001b[0;31m---------------------------------------------------------------------------\u001b[0m",
      "\u001b[0;31mModuleNotFoundError\u001b[0m                       Traceback (most recent call last)",
      "\u001b[0;32m<ipython-input-71-b5afee6a1575>\u001b[0m in \u001b[0;36m<module>\u001b[0;34m()\u001b[0m\n\u001b[1;32m      1\u001b[0m \u001b[0;32mimport\u001b[0m \u001b[0mtorch\u001b[0m\u001b[0;34m\u001b[0m\u001b[0m\n\u001b[1;32m      2\u001b[0m \u001b[0;32mfrom\u001b[0m \u001b[0mtorch\u001b[0m\u001b[0;34m.\u001b[0m\u001b[0mautograd\u001b[0m \u001b[0;32mimport\u001b[0m \u001b[0mVariable\u001b[0m\u001b[0;34m\u001b[0m\u001b[0m\n\u001b[0;32m----> 3\u001b[0;31m \u001b[0;32mfrom\u001b[0m \u001b[0mtqdm\u001b[0m \u001b[0;32mimport\u001b[0m \u001b[0mtqdm\u001b[0m\u001b[0;34m\u001b[0m\u001b[0m\n\u001b[0m",
      "\u001b[0;31mModuleNotFoundError\u001b[0m: No module named 'tqdm'"
     ]
    }
   ],
   "source": [
    "import torch \n",
    "from torch.autograd import Variable\n",
    "from tqdm import tqdm"
   ]
  },
  {
   "cell_type": "code",
   "execution_count": 29,
   "metadata": {},
   "outputs": [],
   "source": [
    "x_data = Variable(torch.Tensor([[1.0], [2.0], [3.0]]))\n",
    "y_data = Variable(torch.Tensor([[2.0], [4.0], [6.0]]))"
   ]
  },
  {
   "cell_type": "code",
   "execution_count": 30,
   "metadata": {},
   "outputs": [
    {
     "data": {
      "text/plain": [
       "tensor([[1.],\n",
       "        [2.],\n",
       "        [3.]])"
      ]
     },
     "execution_count": 30,
     "metadata": {},
     "output_type": "execute_result"
    }
   ],
   "source": [
    "x_data"
   ]
  },
  {
   "cell_type": "markdown",
   "metadata": {},
   "source": [
    "# define pytorch model"
   ]
  },
  {
   "cell_type": "code",
   "execution_count": 58,
   "metadata": {},
   "outputs": [],
   "source": [
    "class Model(torch.nn.Module):\n",
    "    def __init__(self):\n",
    "        \"\"\"\n",
    "        \n",
    "        \"\"\"\n",
    "        super(Model, self).__init__()\n",
    "        \n",
    "        self.Linear = torch.nn.Linear(1,10)\n",
    "        self.hidden = torch.nn.Linear(10, 10)\n",
    "        self.out = torch.nn.Linear(10, 1)\n",
    "        \n",
    "    def forward(self, x):\n",
    "        \n",
    "        y_pred = self.out(self.hidden(self.Linear(x)))\n",
    "        return y_pred"
   ]
  },
  {
   "cell_type": "code",
   "execution_count": 59,
   "metadata": {},
   "outputs": [],
   "source": [
    "model = Model()"
   ]
  },
  {
   "cell_type": "code",
   "execution_count": 60,
   "metadata": {},
   "outputs": [],
   "source": [
    "criterion = torch.nn.MSELoss(reduction='sum')\n",
    "optimizer = torch.optim.SGD(model.parameters(), lr=0.01)"
   ]
  },
  {
   "cell_type": "markdown",
   "metadata": {},
   "source": [
    "## training loop"
   ]
  },
  {
   "cell_type": "code",
   "execution_count": 70,
   "metadata": {},
   "outputs": [
    {
     "name": "stdout",
     "output_type": "stream",
     "text": [
      "1 3.2707698665035423e-06\n",
      "11 2.5965464374166913e-06\n",
      "21 2.0619170300051337e-06\n",
      "31 1.64315611073107e-06\n",
      "41 1.302287500948296e-06\n",
      "51 1.0310978950656136e-06\n",
      "61 8.13225426554709e-07\n",
      "71 6.449911325034918e-07\n",
      "81 5.116328338772291e-07\n",
      "91 4.0602122908239835e-07\n",
      "101 3.230666152376216e-07\n",
      "111 2.543944219723926e-07\n",
      "121 2.0238309161868528e-07\n",
      "131 1.623929648530975e-07\n",
      "141 1.2984749275801732e-07\n",
      "151 1.0492703950149007e-07\n",
      "161 8.318767186210607e-08\n",
      "171 6.650503792116069e-08\n",
      "181 5.288779902912211e-08\n",
      "191 4.200457226488652e-08\n",
      "201 3.442676188569749e-08\n",
      "211 2.848651092790533e-08\n",
      "221 2.3100724888536206e-08\n",
      "231 1.8017601632891456e-08\n",
      "241 1.3822173627886514e-08\n",
      "251 1.2640896329685347e-08\n",
      "261 1.083242295862874e-08\n",
      "271 8.542428986402228e-09\n",
      "281 6.532275165227475e-09\n",
      "291 5.937920377618866e-09\n",
      "301 5.937920377618866e-09\n",
      "311 5.937920377618866e-09\n",
      "321 5.937920377618866e-09\n",
      "331 5.937920377618866e-09\n",
      "341 5.937920377618866e-09\n",
      "351 5.937920377618866e-09\n",
      "361 5.937920377618866e-09\n",
      "371 5.937920377618866e-09\n",
      "381 5.937920377618866e-09\n",
      "391 5.937920377618866e-09\n",
      "401 5.937920377618866e-09\n",
      "411 5.937920377618866e-09\n",
      "421 5.937920377618866e-09\n",
      "431 5.937920377618866e-09\n",
      "441 5.937920377618866e-09\n",
      "451 5.937920377618866e-09\n",
      "461 5.937920377618866e-09\n",
      "471 5.937920377618866e-09\n",
      "481 5.937920377618866e-09\n",
      "491 5.937920377618866e-09\n"
     ]
    }
   ],
   "source": [
    "for epoch in range(500):\n",
    "    y_pred = model(x_data)\n",
    "    \n",
    "    loss = criterion(y_pred, y_data)\n",
    "    print(epoch, loss.item()) if (epoch % 10 == 1) else ''\n",
    "    \n",
    "    optimizer.zero_grad()\n",
    "    loss.backward()\n",
    "    optimizer.step()\n",
    "    \n"
   ]
  },
  {
   "cell_type": "code",
   "execution_count": 57,
   "metadata": {},
   "outputs": [],
   "source": [
    "hour_var = Variable(torch.Tensor([[4.0]]))"
   ]
  },
  {
   "cell_type": "code",
   "execution_count": 54,
   "metadata": {},
   "outputs": [],
   "source": [
    "y_pred = model(hour_var)"
   ]
  },
  {
   "cell_type": "code",
   "execution_count": 55,
   "metadata": {},
   "outputs": [
    {
     "data": {
      "text/plain": [
       "7.994045257568359"
      ]
     },
     "execution_count": 55,
     "metadata": {},
     "output_type": "execute_result"
    }
   ],
   "source": [
    "y_pred.item()"
   ]
  },
  {
   "cell_type": "code",
   "execution_count": null,
   "metadata": {},
   "outputs": [],
   "source": []
  }
 ],
 "metadata": {
  "kernelspec": {
   "display_name": "Python 3",
   "language": "python",
   "name": "python3"
  },
  "language_info": {
   "codemirror_mode": {
    "name": "ipython",
    "version": 3
   },
   "file_extension": ".py",
   "mimetype": "text/x-python",
   "name": "python",
   "nbconvert_exporter": "python",
   "pygments_lexer": "ipython3",
   "version": "3.6.5"
  }
 },
 "nbformat": 4,
 "nbformat_minor": 2
}
